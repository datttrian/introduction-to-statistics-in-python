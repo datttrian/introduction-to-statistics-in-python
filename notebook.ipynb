{
    "cells": [
        {
            "cell_type": "markdown",
            "metadata": {},
            "source": [
                "# Introduction to Statistics in Python\n",
                "\n",
                "## Summary Statistics\n",
                "\n",
                "### Mean and median\n",
                "\n",
                "In this chapter, you'll be working with the [2018 Food Carbon Footprint\n",
                "Index](https://www.nu3.de/blogs/nutrition/food-carbon-footprint-index-2018)\n",
                "from nu3. The `food_consumption` dataset contains information about the\n",
                "kilograms of food consumed per person per year in each country in each\n",
                "food category (`consumption`) as well as information about the carbon\n",
                "footprint of that food category (`co2_emissions`) measured in kilograms\n",
                "of carbon dioxide, or CO<sub>2</sub>, per person per year in each\n",
                "country.\n",
                "\n",
                "In this exercise, you'll compute measures of center to compare food\n",
                "consumption in the US and Belgium using your `pandas` and `numpy`\n",
                "skills.\n",
                "\n",
                "`pandas` is imported as `pd` for you and `food_consumption` is\n",
                "pre-loaded.\n",
                "\n",
                "**Instructions**\n",
                "\n",
                "- Import `numpy` with the alias `np`.\n",
                "- Create two DataFrames: one that holds the rows of `food_consumption`\n",
                "  for `'Belgium'` and another that holds rows for `'USA'`. Call these\n",
                "  `be_consumption` and `usa_consumption`.\n",
                "- Calculate the mean and median of kilograms of food consumed per person\n",
                "  per year for both countries.\n",
                "\n",
                "<!-- -->\n",
                "\n",
                "- Subset `food_consumption` for rows with data about Belgium and the\n",
                "  USA.\n",
                "- Group the subsetted data by `country` and select only the\n",
                "  `consumption` column.\n",
                "- Calculate the mean and median of the kilograms of food consumed per\n",
                "  person per year in each country using `.agg()`.\n",
                "\n",
                "**Answer**\n"
            ]
        },
        {
            "cell_type": "code",
            "execution_count": 4,
            "metadata": {},
            "outputs": [
                {
                    "name": "stdout",
                    "output_type": "stream",
                    "text": [
                        "Defaulting to user installation because normal site-packages is not writeable\n",
                        "Requirement already satisfied: numpy in /home/vscode/.local/lib/python3.12/site-packages (1.26.4)\n",
                        "Collecting pandas\n",
                        "  Downloading pandas-2.2.2-cp312-cp312-manylinux_2_17_aarch64.manylinux2014_aarch64.whl.metadata (19 kB)\n",
                        "Requirement already satisfied: python-dateutil>=2.8.2 in /home/vscode/.local/lib/python3.12/site-packages (from pandas) (2.9.0.post0)\n",
                        "Collecting pytz>=2020.1 (from pandas)\n",
                        "  Downloading pytz-2024.1-py2.py3-none-any.whl.metadata (22 kB)\n",
                        "Collecting tzdata>=2022.7 (from pandas)\n",
                        "  Downloading tzdata-2024.1-py2.py3-none-any.whl.metadata (1.4 kB)\n",
                        "Requirement already satisfied: six>=1.5 in /home/vscode/.local/lib/python3.12/site-packages (from python-dateutil>=2.8.2->pandas) (1.16.0)\n",
                        "Downloading pandas-2.2.2-cp312-cp312-manylinux_2_17_aarch64.manylinux2014_aarch64.whl (15.2 MB)\n",
                        "\u001b[2K   \u001b[90m━━━━━━━━━━━━━━━━━━━━━━━━━━━━━━━━━━━━━━━━\u001b[0m \u001b[32m15.2/15.2 MB\u001b[0m \u001b[31m2.0 MB/s\u001b[0m eta \u001b[36m0:00:00\u001b[0m00:01\u001b[0m00:01\u001b[0m\n",
                        "\u001b[?25hDownloading pytz-2024.1-py2.py3-none-any.whl (505 kB)\n",
                        "\u001b[2K   \u001b[90m━━━━━━━━━━━━━━━━━━━━━━━━━━━━━━━━━━━━━━━━\u001b[0m \u001b[32m505.5/505.5 kB\u001b[0m \u001b[31m2.6 MB/s\u001b[0m eta \u001b[36m0:00:00\u001b[0m00:01\u001b[0m00:01\u001b[0m\n",
                        "\u001b[?25hDownloading tzdata-2024.1-py2.py3-none-any.whl (345 kB)\n",
                        "\u001b[2K   \u001b[90m━━━━━━━━━━━━━━━━━━━━━━━━━━━━━━━━━━━━━━━━\u001b[0m \u001b[32m345.4/345.4 kB\u001b[0m \u001b[31m2.8 MB/s\u001b[0m eta \u001b[36m0:00:00\u001b[0m00:01\u001b[0m00:01\u001b[0m\n",
                        "\u001b[?25hInstalling collected packages: pytz, tzdata, pandas\n",
                        "Successfully installed pandas-2.2.2 pytz-2024.1 tzdata-2024.1\n",
                        "Note: you may need to restart the kernel to use updated packages.\n"
                    ]
                }
            ],
            "source": [
                "pip install numpy pandas"
            ]
        },
        {
            "cell_type": "code",
            "execution_count": 5,
            "metadata": {},
            "outputs": [],
            "source": [
                "# edited/added\n",
                "import pandas as pd\n",
                "food_consumption = pd.read_csv(\"food_consumption.csv\")"
            ]
        },
        {
            "cell_type": "code",
            "execution_count": 12,
            "metadata": {},
            "outputs": [
                {
                    "name": "stdout",
                    "output_type": "stream",
                    "text": [
                        "42.13272727272727\n",
                        "12.59\n",
                        "44.650000000000006\n",
                        "14.58\n"
                    ]
                }
            ],
            "source": [
                "# Import numpy with alias np\n",
                "import numpy as np\n",
                "\n",
                "# Filter for Belgium\n",
                "be_consumption = food_consumption[food_consumption['country'] == 'Belgium']\n",
                "\n",
                "# Filter for USA\n",
                "usa_consumption = food_consumption[food_consumption['country'] == 'USA']\n",
                "\n",
                "# Calculate mean and median consumption in Belgium\n",
                "print(np.mean(be_consumption['consumption']))\n",
                "print(np.median(be_consumption['consumption']))\n",
                "\n",
                "# Calculate mean and median consumption in USA\n",
                "print(np.mean(usa_consumption['consumption']))\n",
                "print(np.median(usa_consumption['consumption']))"
            ]
        },
        {
            "cell_type": "code",
            "execution_count": 13,
            "metadata": {},
            "outputs": [
                {
                    "name": "stdout",
                    "output_type": "stream",
                    "text": [
                        "              mean  median\n",
                        "country                   \n",
                        "Belgium  42.132727   12.59\n",
                        "USA      44.650000   14.58\n"
                    ]
                },
                {
                    "name": "stderr",
                    "output_type": "stream",
                    "text": [
                        "/tmp/ipykernel_2272/2502747405.py:8: FutureWarning: The provided callable <function mean at 0xffff937ddee0> is currently using SeriesGroupBy.mean. In a future version of pandas, the provided callable will be used directly. To keep current behavior pass the string \"mean\" instead.\n",
                        "  print(be_and_usa.groupby('country')['consumption'].agg([np.mean, np.median]))\n",
                        "/tmp/ipykernel_2272/2502747405.py:8: FutureWarning: The provided callable <function median at 0xffff902391c0> is currently using SeriesGroupBy.median. In a future version of pandas, the provided callable will be used directly. To keep current behavior pass the string \"median\" instead.\n",
                        "  print(be_and_usa.groupby('country')['consumption'].agg([np.mean, np.median]))\n"
                    ]
                }
            ],
            "source": [
                "# Import numpy as np\n",
                "import numpy as np\n",
                "\n",
                "# Subset for Belgium and USA only\n",
                "be_and_usa = food_consumption[(food_consumption['country'] == \"Belgium\") | (food_consumption['country'] == 'USA')]\n",
                "\n",
                "# Group by country, select consumption column, and compute mean and median\n",
                "print(be_and_usa.groupby('country')['consumption'].agg([np.mean, np.median]))"
            ]
        },
        {
            "cell_type": "markdown",
            "metadata": {},
            "source": [
                "### Mean vs. median\n",
                "\n",
                "In the video, you learned that the mean is the sum of all the data\n",
                "points divided by the total number of data points, and the median is the\n",
                "middle value of the dataset where 50% of the data is less than the\n",
                "median, and 50% of the data is greater than the median. In this\n",
                "exercise, you'll compare these two measures of center.\n",
                "\n",
                "`pandas` is loaded as `pd`, `numpy` is loaded as `np`, and\n",
                "`food_consumption` is available.\n",
                "\n",
                "**Instructions**\n",
                "\n",
                "- Import `matplotlib.pyplot` with the alias `plt`.\n",
                "- Subset `food_consumption` to get the rows where `food_category` is\n",
                "  `'rice'`.\n",
                "- Create a histogram of `co2_emission` for rice and show the plot.\n",
                "- Use `.agg()` to calculate the mean and median of `co2_emission` for rice.\n",
                "\n",
                "\n",
                "**Answer**\n"
            ]
        },
        {
            "cell_type": "code",
            "execution_count": 15,
            "metadata": {},
            "outputs": [
                {
                    "name": "stdout",
                    "output_type": "stream",
                    "text": [
                        "Defaulting to user installation because normal site-packages is not writeable\n",
                        "Collecting matplotlib\n",
                        "  Downloading matplotlib-3.9.0-cp312-cp312-manylinux_2_17_aarch64.manylinux2014_aarch64.whl.metadata (11 kB)\n",
                        "Collecting contourpy>=1.0.1 (from matplotlib)\n",
                        "  Downloading contourpy-1.2.1-cp312-cp312-manylinux_2_17_aarch64.manylinux2014_aarch64.whl.metadata (5.8 kB)\n",
                        "Collecting cycler>=0.10 (from matplotlib)\n",
                        "  Downloading cycler-0.12.1-py3-none-any.whl.metadata (3.8 kB)\n",
                        "Collecting fonttools>=4.22.0 (from matplotlib)\n",
                        "  Downloading fonttools-4.53.0-cp312-cp312-manylinux_2_17_aarch64.manylinux2014_aarch64.whl.metadata (162 kB)\n",
                        "\u001b[2K     \u001b[90m━━━━━━━━━━━━━━━━━━━━━━━━━━━━━━━━━━━━━━━\u001b[0m \u001b[32m162.2/162.2 kB\u001b[0m \u001b[31m4.2 MB/s\u001b[0m eta \u001b[36m0:00:00\u001b[0ma \u001b[36m0:00:01\u001b[0m\n",
                        "\u001b[?25hCollecting kiwisolver>=1.3.1 (from matplotlib)\n",
                        "  Downloading kiwisolver-1.4.5-cp312-cp312-manylinux_2_17_aarch64.manylinux2014_aarch64.whl.metadata (6.4 kB)\n",
                        "Requirement already satisfied: numpy>=1.23 in /home/vscode/.local/lib/python3.12/site-packages (from matplotlib) (1.26.4)\n",
                        "Requirement already satisfied: packaging>=20.0 in /home/vscode/.local/lib/python3.12/site-packages (from matplotlib) (24.0)\n",
                        "Collecting pillow>=8 (from matplotlib)\n",
                        "  Downloading pillow-10.3.0-cp312-cp312-manylinux_2_28_aarch64.whl.metadata (9.2 kB)\n",
                        "Collecting pyparsing>=2.3.1 (from matplotlib)\n",
                        "  Downloading pyparsing-3.1.2-py3-none-any.whl.metadata (5.1 kB)\n",
                        "Requirement already satisfied: python-dateutil>=2.7 in /home/vscode/.local/lib/python3.12/site-packages (from matplotlib) (2.9.0.post0)\n",
                        "Requirement already satisfied: six>=1.5 in /home/vscode/.local/lib/python3.12/site-packages (from python-dateutil>=2.7->matplotlib) (1.16.0)\n",
                        "Downloading matplotlib-3.9.0-cp312-cp312-manylinux_2_17_aarch64.manylinux2014_aarch64.whl (8.2 MB)\n",
                        "\u001b[2K   \u001b[90m━━━━━━━━━━━━━━━━━━━━━━━━━━━━━━━━━━━━━━━━\u001b[0m \u001b[32m8.2/8.2 MB\u001b[0m \u001b[31m11.9 MB/s\u001b[0m eta \u001b[36m0:00:00\u001b[0m00:01\u001b[0m00:01\u001b[0m\n",
                        "\u001b[?25hDownloading contourpy-1.2.1-cp312-cp312-manylinux_2_17_aarch64.manylinux2014_aarch64.whl (285 kB)\n",
                        "\u001b[2K   \u001b[90m━━━━━━━━━━━━━━━━━━━━━━━━━━━━━━━━━━━━━━━━\u001b[0m \u001b[32m285.7/285.7 kB\u001b[0m \u001b[31m11.6 MB/s\u001b[0m eta \u001b[36m0:00:00\u001b[0m\n",
                        "\u001b[?25hDownloading cycler-0.12.1-py3-none-any.whl (8.3 kB)\n",
                        "Downloading fonttools-4.53.0-cp312-cp312-manylinux_2_17_aarch64.manylinux2014_aarch64.whl (4.8 MB)\n",
                        "\u001b[2K   \u001b[90m━━━━━━━━━━━━━━━━━━━━━━━━━━━━━━━━━━━━━━━━\u001b[0m \u001b[32m4.8/4.8 MB\u001b[0m \u001b[31m14.5 MB/s\u001b[0m eta \u001b[36m0:00:00\u001b[0ma \u001b[36m0:00:01\u001b[0m\n",
                        "\u001b[?25hDownloading kiwisolver-1.4.5-cp312-cp312-manylinux_2_17_aarch64.manylinux2014_aarch64.whl (1.5 MB)\n",
                        "\u001b[2K   \u001b[90m━━━━━━━━━━━━━━━━━━━━━━━━━━━━━━━━━━━━━━━━\u001b[0m \u001b[32m1.5/1.5 MB\u001b[0m \u001b[31m11.8 MB/s\u001b[0m eta \u001b[36m0:00:00\u001b[0ma \u001b[36m0:00:01\u001b[0m\n",
                        "\u001b[?25hDownloading pillow-10.3.0-cp312-cp312-manylinux_2_28_aarch64.whl (4.3 MB)\n",
                        "\u001b[2K   \u001b[90m━━━━━━━━━━━━━━━━━━━━━━━━━━━━━━━━━━━━━━━━\u001b[0m \u001b[32m4.3/4.3 MB\u001b[0m \u001b[31m3.7 MB/s\u001b[0m eta \u001b[36m0:00:00\u001b[0m00:01\u001b[0m00:01\u001b[0mm\n",
                        "\u001b[?25hDownloading pyparsing-3.1.2-py3-none-any.whl (103 kB)\n",
                        "\u001b[2K   \u001b[90m━━━━━━━━━━━━━━━━━━━━━━━━━━━━━━━━━━━━━━━━\u001b[0m \u001b[32m103.2/103.2 kB\u001b[0m \u001b[31m6.0 MB/s\u001b[0m eta \u001b[36m0:00:00\u001b[0m\n",
                        "\u001b[?25hInstalling collected packages: pyparsing, pillow, kiwisolver, fonttools, cycler, contourpy, matplotlib\n",
                        "Successfully installed contourpy-1.2.1 cycler-0.12.1 fonttools-4.53.0 kiwisolver-1.4.5 matplotlib-3.9.0 pillow-10.3.0 pyparsing-3.1.2\n",
                        "Note: you may need to restart the kernel to use updated packages.\n"
                    ]
                }
            ],
            "source": [
                "pip install matplotlib"
            ]
        },
        {
            "cell_type": "code",
            "execution_count": 21,
            "metadata": {},
            "outputs": [
                {
                    "data": {
                        "image/png": "[encoded data removed]",
                        "text/plain": [
                            "<Figure size 640x480 with 1 Axes>"
                        ]
                    },
                    "metadata": {},
                    "output_type": "display_data"
                }
            ],
            "source": [
                "# Import matplotlib.pyplot with alias plt\n",
                "import matplotlib.pyplot as plt\n",
                "\n",
                "# Subset for food_category equals rice\n",
                "rice_consumption = food_consumption[food_consumption['food_category'] == 'rice']\n",
                "\n",
                "# Histogram of co2_emission for rice and show plot\n",
                "rice_consumption['co2_emission'].hist()\n",
                "plt.show()"
            ]
        },
        {
            "cell_type": "code",
            "execution_count": 22,
            "metadata": {},
            "outputs": [
                {
                    "name": "stdout",
                    "output_type": "stream",
                    "text": [
                        "mean      37.591615\n",
                        "median    15.200000\n",
                        "Name: co2_emission, dtype: float64\n"
                    ]
                },
                {
                    "name": "stderr",
                    "output_type": "stream",
                    "text": [
                        "/tmp/ipykernel_2272/4138787908.py:5: FutureWarning: The provided callable <function mean at 0xffff937ddee0> is currently using Series.mean. In a future version of pandas, the provided callable will be used directly. To keep current behavior pass the string \"mean\" instead.\n",
                        "  print(rice_consumption['co2_emission'].agg([np.mean, np.median]))\n",
                        "/tmp/ipykernel_2272/4138787908.py:5: FutureWarning: The provided callable <function median at 0xffff902391c0> is currently using Series.median. In a future version of pandas, the provided callable will be used directly. To keep current behavior pass the string \"median\" instead.\n",
                        "  print(rice_consumption['co2_emission'].agg([np.mean, np.median]))\n"
                    ]
                }
            ],
            "source": [
                "# Subset for food_category equals rice\n",
                "rice_consumption = food_consumption[food_consumption['food_category'] == 'rice']\n",
                "\n",
                "# Calculate mean and median of co2_emission with .agg()\n",
                "print(rice_consumption['co2_emission'].agg([np.mean, np.median]))"
            ]
        },
        {
            "cell_type": "markdown",
            "metadata": {},
            "source": [
                "### Quartiles, quantiles, and quintiles\n",
                "\n",
                "Quantiles are a great way of summarizing numerical data since they can\n",
                "be used to measure center and spread, as well as to get a sense of where\n",
                "a data point stands in relation to the rest of the data set. For\n",
                "example, you might want to give a discount to the 10% most active users\n",
                "on a website.\n",
                "\n",
                "In this exercise, you'll calculate quartiles, quintiles, and deciles,\n",
                "which split up a dataset into 4, 5, and 10 pieces, respectively.\n",
                "\n",
                "Both `pandas` as `pd` and `numpy` as `np` are loaded and\n",
                "`food_consumption` is available.\n",
                "\n",
                "**Instructions**\n",
                "\n",
                "- Calculate the quartiles of the `co2_emission` column of\n",
                "  `food_consumption`.\n",
                "\n",
                "<!-- -->\n",
                "\n",
                "- Calculate the six quantiles that split up the data into 5 pieces\n",
                "  (quintiles) of the `co2_emission` column of `food_consumption`.\n",
                "\n",
                "<!-- -->\n",
                "\n",
                "- Calculate the eleven quantiles of `co2_emission` that split up the\n",
                "  data into ten pieces (deciles).\n",
                "\n",
                "**Answer**\n"
            ]
        },
        {
            "cell_type": "code",
            "execution_count": 23,
            "metadata": {},
            "outputs": [
                {
                    "name": "stdout",
                    "output_type": "stream",
                    "text": [
                        "[   0.        5.21     16.53     62.5975 1712.    ]\n",
                        "[   0.       3.54    11.026   25.59    99.978 1712.   ]\n",
                        "[0.00000e+00 6.68000e-01 3.54000e+00 7.04000e+00 1.10260e+01 1.65300e+01\n",
                        " 2.55900e+01 4.42710e+01 9.99780e+01 2.03629e+02 1.71200e+03]\n"
                    ]
                }
            ],
            "source": [
                "# Calculate the quartiles of co2_emission\n",
                "print(np.quantile(food_consumption['co2_emission'], [0, 0.25, 0.5, 0.75, 1]))\n",
                "\n",
                "# Calculate the quintiles of co2_emission\n",
                "print(np.quantile(food_consumption['co2_emission'], [0, 0.2, 0.4, 0.6, 0.8, 1]))\n",
                "\n",
                "# Calculate the deciles of co2_emission\n",
                "print(np.quantile(food_consumption['co2_emission'], np.linspace(0, 1, 11)))"
            ]
        },
        {
            "cell_type": "markdown",
            "metadata": {},
            "source": [
                "### Variance and standard deviation\n",
                "\n",
                "Variance and standard deviation are two of the most common ways to\n",
                "measure the spread of a variable, and you'll practice calculating these\n",
                "in this exercise. Spread is important since it can help inform\n",
                "expectations. For example, if a salesperson sells a mean of 20 products\n",
                "a day, but has a standard deviation of 10 products, there will probably\n",
                "be days where they sell 40 products, but also days where they only sell\n",
                "one or two. Information like this is important, especially when making\n",
                "predictions.\n",
                "\n",
                "Both `pandas` as `pd` and `numpy` as `np` are loaded, and\n",
                "`food_consumption` is available.\n",
                "\n",
                "**Instructions**\n",
                "\n",
                "- Calculate the variance and standard deviation of `co2_emission` for\n",
                "  each `food_category` by grouping and aggregating.\n",
                "- Import `matplotlib.pyplot` with alias `plt`.\n",
                "- Create a histogram of `co2_emission` for the `beef` `food_category`\n",
                "  and show the plot.\n",
                "- Create a histogram of `co2_emission` for the `eggs` `food_category`\n",
                "  and show the plot.\n",
                "\n",
                "**Answer**\n"
            ]
        },
        {
            "cell_type": "code",
            "execution_count": 24,
            "metadata": {},
            "outputs": [
                {
                    "name": "stdout",
                    "output_type": "stream",
                    "text": [
                        "                        var         std\n",
                        "food_category                          \n",
                        "beef           88748.408132  297.906710\n",
                        "dairy          17671.891985  132.935669\n",
                        "eggs              21.371819    4.622966\n",
                        "fish             921.637349   30.358481\n",
                        "lamb_goat      16475.518363  128.356996\n",
                        "nuts              35.639652    5.969895\n",
                        "pork            3094.963537   55.632396\n",
                        "poultry          245.026801   15.653332\n",
                        "rice            2281.376243   47.763754\n",
                        "soybeans           0.879882    0.938020\n",
                        "wheat             71.023937    8.427570\n"
                    ]
                },
                {
                    "name": "stderr",
                    "output_type": "stream",
                    "text": [
                        "/tmp/ipykernel_2272/2113282346.py:2: FutureWarning: The provided callable <function var at 0xffff937de160> is currently using SeriesGroupBy.var. In a future version of pandas, the provided callable will be used directly. To keep current behavior pass the string \"var\" instead.\n",
                        "  print(food_consumption.groupby('food_category')['co2_emission'].agg([np.var, np.std]))\n",
                        "/tmp/ipykernel_2272/2113282346.py:2: FutureWarning: The provided callable <function std at 0xffff937de020> is currently using SeriesGroupBy.std. In a future version of pandas, the provided callable will be used directly. To keep current behavior pass the string \"std\" instead.\n",
                        "  print(food_consumption.groupby('food_category')['co2_emission'].agg([np.var, np.std]))\n"
                    ]
                },
                {
                    "data": {
                        "image/png": "[encoded data removed]",
                        "text/plain": [
                            "<Figure size 640x480 with 1 Axes>"
                        ]
                    },
                    "metadata": {},
                    "output_type": "display_data"
                },
                {
                    "data": {
                        "image/png": "[encoded data removed]",
                        "text/plain": [
                            "<Figure size 640x480 with 1 Axes>"
                        ]
                    },
                    "metadata": {},
                    "output_type": "display_data"
                }
            ],
            "source": [
                "# Print variance and sd of co2_emission for each food_category\n",
                "print(food_consumption.groupby('food_category')['co2_emission'].agg([np.var, np.std]))\n",
                "\n",
                "# Import matplotlib.pyplot with alias plt\n",
                "import matplotlib.pyplot as plt\n",
                "\n",
                "# Create histogram of co2_emission for food_category 'beef'\n",
                "food_consumption[food_consumption['food_category'] == 'beef']['co2_emission'].hist()\n",
                "# Show plot\n",
                "plt.show()\n",
                "\n",
                "# Create histogram of co2_emission for food_category 'eggs'\n",
                "food_consumption[food_consumption['food_category'] == 'eggs']['co2_emission'].hist()\n",
                "# Show plot\n",
                "plt.show()"
            ]
        },
        {
            "cell_type": "markdown",
            "metadata": {},
            "source": [
                "### Finding outliers using IQR\n",
                "\n",
                "Outliers can have big effects on statistics like mean, as well as\n",
                "statistics that rely on the mean, such as variance and standard\n",
                "deviation. Interquartile range, or IQR, is another way of measuring\n",
                "spread that's less influenced by outliers. IQR is also often used to\n",
                "find outliers. If a value is less than \\\\\\text{Q1} - 1.5 \\times\n",
                "\\text{IQR}\\\\ or greater than \\\\\\text{Q3} + 1.5 \\times \\text{IQR}\\\\, it's\n",
                "considered an outlier. In fact, this is how the lengths of the whiskers\n",
                "in a `matplotlib` box plot are calculated.\n",
                "\n",
                "![Diagram of a box plot showing median, quartiles, and\n",
                "outliers](https://assets.datacamp.com/production/repositories/5758/datasets/ca7e6e1832be7ec1842f62891815a9b0488efa83/Screen%20Shot%202020-04-28%20at%2010.04.54%20AM.png)\n",
                "\n",
                "In this exercise, you'll calculate IQR and use it to find some outliers.\n",
                "`pandas` as `pd` and `numpy` as `np` are loaded and `food_consumption`\n",
                "is available.\n",
                "\n",
                "**Instructions**\n",
                "\n",
                "- Calculate the total `co2_emission` per country by grouping by country\n",
                "  and taking the sum of `co2_emission`. Store the resulting DataFrame as\n",
                "  `emissions_by_country`.\n",
                "- Compute the first and third quartiles of `emissions_by_country` and store these as `q1` and `q3`.\n",
                "- Calculate the interquartile range of `emissions_by_country` and store it as `iqr`.\n",
                "- Calculate the lower and upper cutoffs for outliers of `emissions_by_country`, and store these as lower and `upper`.\n",
                "- Subset `emissions_by_country` to get countries with a total emission greater than the `upper` cutoff or a total emission less than the `lower` cutoff.\n",
                "\n",
                "**Answer**\n"
            ]
        },
        {
            "cell_type": "code",
            "execution_count": 29,
            "metadata": {},
            "outputs": [
                {
                    "name": "stdout",
                    "output_type": "stream",
                    "text": [
                        "country\n",
                        "Albania      1777.85\n",
                        "Algeria       707.88\n",
                        "Angola        412.99\n",
                        "Argentina    2172.40\n",
                        "Armenia      1109.93\n",
                        "              ...   \n",
                        "Uruguay      1634.91\n",
                        "Venezuela    1104.10\n",
                        "Vietnam       641.51\n",
                        "Zambia        225.30\n",
                        "Zimbabwe      350.33\n",
                        "Name: co2_emission, Length: 130, dtype: float64\n"
                    ]
                }
            ],
            "source": [
                "# Calculate total co2_emission per country: emissions_by_country\n",
                "emissions_by_country = food_consumption.groupby('country')['co2_emission'].sum()\n",
                "\n",
                "print(emissions_by_country)"
            ]
        },
        {
            "cell_type": "code",
            "execution_count": 30,
            "metadata": {},
            "outputs": [
                {
                    "name": "stdout",
                    "output_type": "stream",
                    "text": [
                        "country\n",
                        "Argentina    2172.4\n",
                        "Name: co2_emission, dtype: float64\n"
                    ]
                }
            ],
            "source": [
                "# Compute the first and third quantiles and IQR of emissions_by_country\n",
                "q1 = np.quantile(emissions_by_country, 0.25)\n",
                "q3 = np.quantile(emissions_by_country, 0.75)\n",
                "iqr = q3 - q1\n",
                "\n",
                "# Calculate the lower and upper cutoffs for outliers\n",
                "lower = q1 - 1.5 * iqr\n",
                "upper = q3 + 1.5 * iqr\n",
                "\n",
                "# Subset emissions_by_country to find outliers\n",
                "outliers = emissions_by_country[(emissions_by_country < lower) | (emissions_by_country > upper)]\n",
                "print(outliers)"
            ]
        },
        {
            "cell_type": "markdown",
            "metadata": {},
            "source": [
                "## Random Numbers and Probability\n",
                "\n",
                "### Calculating probabilities\n",
                "\n",
                "You're in charge of the sales team, and it's time for performance\n",
                "reviews, starting with Amir. As part of the review, you want to randomly\n",
                "select a few of the deals that he's worked on over the past year so that\n",
                "you can look at them more deeply. Before you start selecting deals,\n",
                "you'll first figure out what the chances are of selecting certain deals.\n",
                "\n",
                "Recall that the probability of an event can be calculated by \\$\\$\n",
                "P(\\text{event}) = \\frac{\\text{# ways event can happen}}{\\text{total \\#\n",
                "of possible outcomes}} \\$\\$\n",
                "\n",
                "Both `pandas` as `pd` and `numpy` as `np` are loaded and `amir_deals` is\n",
                "available.\n",
                "\n",
                "**Instructions**\n",
                "\n",
                "- Count the number of deals Amir worked on for each `product` type and\n",
                "  store in `counts`.\n",
                "- Calculate the probability of selecting a deal for the different product types by dividing the counts by the total number of deals Amir worked on. Save this as `probs`.\n",
                "\n",
                "\n",
                "**Answer**\n"
            ]
        },
        {
            "cell_type": "code",
            "execution_count": 36,
            "metadata": {},
            "outputs": [],
            "source": [
                "# edited/added\n",
                "amir_deals = pd.read_csv(\"amir_deals.csv\")"
            ]
        },
        {
            "cell_type": "code",
            "execution_count": 37,
            "metadata": {},
            "outputs": [
                {
                    "name": "stdout",
                    "output_type": "stream",
                    "text": [
                        "product\n",
                        "Product B    62\n",
                        "Product D    40\n",
                        "Product A    23\n",
                        "Product C    15\n",
                        "Product F    11\n",
                        "Product H     8\n",
                        "Product I     7\n",
                        "Product E     5\n",
                        "Product N     3\n",
                        "Product G     2\n",
                        "Product J     2\n",
                        "Name: count, dtype: int64\n"
                    ]
                }
            ],
            "source": [
                "# Count the deals for each product\n",
                "counts = amir_deals['product'].value_counts()\n",
                "print(counts)"
            ]
        },
        {
            "cell_type": "code",
            "execution_count": 38,
            "metadata": {},
            "outputs": [
                {
                    "name": "stdout",
                    "output_type": "stream",
                    "text": [
                        "product\n",
                        "Product B    0.348315\n",
                        "Product D    0.224719\n",
                        "Product A    0.129213\n",
                        "Product C    0.084270\n",
                        "Product F    0.061798\n",
                        "Product H    0.044944\n",
                        "Product I    0.039326\n",
                        "Product E    0.028090\n",
                        "Product N    0.016854\n",
                        "Product G    0.011236\n",
                        "Product J    0.011236\n",
                        "Name: count, dtype: float64\n"
                    ]
                }
            ],
            "source": [
                "# Count the deals for each product\n",
                "counts = amir_deals['product'].value_counts()\n",
                "\n",
                "# Calculate probability of picking a deal with each product\n",
                "probs = counts / amir_deals.shape[0]\n",
                "print(probs)"
            ]
        },
        {
            "cell_type": "markdown",
            "metadata": {},
            "source": [
                "### Sampling deals\n",
                "\n",
                "In the previous exercise, you counted the deals Amir worked on. Now it's\n",
                "time to randomly pick five deals so that you can reach out to each\n",
                "customer and ask if they were satisfied with the service they received.\n",
                "You'll try doing this both with and without replacement.\n",
                "\n",
                "Additionally, you want to make sure this is done randomly and that it\n",
                "can be reproduced in case you get asked how you chose the deals, so\n",
                "you'll need to set the random seed before sampling from the deals.\n",
                "\n",
                "Both `pandas` as `pd` and `numpy` as `np` are loaded and `amir_deals` is\n",
                "available.\n",
                "\n",
                "**Instructions**\n",
                "\n",
                "- Set the random seed to `24`.\n",
                "- Take a sample of `5` deals **without** replacement and store them as\n",
                "  `sample_without_replacement`.\n",
                "- Take a sample of 5 deals with replacement and save as `sample_with_replacement`.\n",
                "\n",
                "\n",
                "**Answer**\n"
            ]
        },
        {
            "cell_type": "code",
            "execution_count": 41,
            "metadata": {},
            "outputs": [
                {
                    "name": "stdout",
                    "output_type": "stream",
                    "text": [
                        "     Unnamed: 0    product   client status   amount  num_users\n",
                        "127         128  Product B  Current    Won  2070.25          7\n",
                        "148         149  Product D  Current    Won  3485.48         52\n",
                        "77           78  Product B  Current    Won  6252.30         27\n",
                        "104         105  Product D  Current    Won  4110.98         39\n",
                        "166         167  Product C      New   Lost  3779.86         11\n"
                    ]
                }
            ],
            "source": [
                "# Set random seed\n",
                "np.random.seed(24)\n",
                "\n",
                "# Sample 5 deals without replacement\n",
                "sample_without_replacement = amir_deals.sample(5)\n",
                "print(sample_without_replacement)"
            ]
        },
        {
            "cell_type": "code",
            "execution_count": 42,
            "metadata": {},
            "outputs": [
                {
                    "name": "stdout",
                    "output_type": "stream",
                    "text": [
                        "     Unnamed: 0    product   client status   amount  num_users\n",
                        "162         163  Product D  Current    Won  6755.66         59\n",
                        "131         132  Product B  Current    Won  6872.29         25\n",
                        "87           88  Product C  Current    Won  3579.63          3\n",
                        "145         146  Product A  Current    Won  4682.94         63\n",
                        "145         146  Product A  Current    Won  4682.94         63\n"
                    ]
                }
            ],
            "source": [
                "# Set random seed\n",
                "np.random.seed(24)\n",
                "\n",
                "# Sample 5 deals with replacement\n",
                "sample_with_replacement = amir_deals.sample(5, replace=True)\n",
                "print(sample_with_replacement)"
            ]
        },
        {
            "cell_type": "markdown",
            "metadata": {},
            "source": [
                "### Creating a probability distribution\n",
                "\n",
                "A new restaurant opened a few months ago, and the restaurant's\n",
                "management wants to optimize its seating space based on the size of the\n",
                "groups that come most often. On one night, there are 10 groups of people\n",
                "waiting to be seated at the restaurant, but instead of being called in\n",
                "the order they arrived, they will be called randomly. In this exercise,\n",
                "you'll investigate the probability of groups of different sizes getting\n",
                "picked first. Data on each of the ten groups is contained in the\n",
                "`restaurant_groups` DataFrame.\n",
                "\n",
                "Remember that expected value can be calculated by multiplying each\n",
                "possible outcome with its corresponding probability and taking the sum.\n",
                "The `restaurant_groups` data is available. `pandas` is loaded as `pd`,\n",
                "`numpy` is loaded as `np`, and `matplotlib.pyplot` is loaded as `plt`.\n",
                "\n",
                "**Instructions**\n",
                "\n",
                "- Create a histogram of the `group_size` column of `restaurant_groups`,\n",
                "  setting `bins` to `[2, 3, 4, 5, 6]`. Remember to show the plot.\n",
                "\n",
                "<!-- -->\n",
                "\n",
                "- Count the number of each `group_size` in `restaurant_groups`, then\n",
                "  divide by the number of rows in `restaurant_groups` to calculate the\n",
                "  probability of randomly selecting a group of each size. Save as\n",
                "  `size_dist`.\n",
                "- Reset the index of `size_dist`.\n",
                "- Rename the columns of `size_dist` to `group_size` and `prob`.\n",
                "\n",
                "<!-- -->\n",
                "\n",
                "- Calculate the expected value of the `size_dist`, which represents the\n",
                "  expected group size, by multiplying the `group_size` by the `prob` and\n",
                "  taking the sum.\n",
                "\n",
                "<!-- -->\n",
                "\n",
                "- Calculate the probability of randomly picking a group of 4 or more\n",
                "  people by subsetting for groups of size 4 or more and summing the\n",
                "  probabilities of selecting those groups.\n",
                "\n",
                "**Answer**\n"
            ]
        },
        {
            "cell_type": "code",
            "execution_count": 46,
            "metadata": {},
            "outputs": [],
            "source": [
                "# edited/added\n",
                "restaurant_groups = pd.read_csv(\"restaurant_groups.csv\")"
            ]
        },
        {
            "cell_type": "code",
            "execution_count": 47,
            "metadata": {},
            "outputs": [
                {
                    "data": {
                        "image/png": "[encoded data removed]",
                        "text/plain": [
                            "<Figure size 640x480 with 1 Axes>"
                        ]
                    },
                    "metadata": {},
                    "output_type": "display_data"
                }
            ],
            "source": [
                "# Create a histogram of restaurant_groups and show plot\n",
                "restaurant_groups['group_size'].hist(bins=np.linspace(2,6,5))\n",
                "plt.show()"
            ]
        },
        {
            "cell_type": "code",
            "execution_count": 151,
            "metadata": {},
            "outputs": [
                {
                    "name": "stdout",
                    "output_type": "stream",
                    "text": [
                        "   group_size  prob\n",
                        "0           2   0.6\n",
                        "1           4   0.2\n",
                        "2           6   0.1\n",
                        "3           3   0.1\n",
                        "2.9000000000000004\n",
                        "0.30000000000000004\n"
                    ]
                }
            ],
            "source": [
                "# Create probability distribution\n",
                "size_dist = restaurant_groups['group_size'].value_counts() / restaurant_groups.shape[0]\n",
                "\n",
                "# Reset index and rename columns\n",
                "size_dist = size_dist.reset_index()\n",
                "size_dist.columns = ['group_size', 'prob']\n",
                "\n",
                "print(size_dist)\n",
                "\n",
                "\n",
                "# Expected value\n",
                "expected_value = np.sum(size_dist['group_size'] * size_dist['prob'])\n",
                "print(expected_value)\n",
                "\n",
                "\n",
                "# Subset groups of size 4 or more\n",
                "groups_4_or_more = size_dist[size_dist['group_size'] >= 4]\n",
                "\n",
                "# Sum the probabilities of groups_4_or_more\n",
                "prob_4_or_more = np.sum(groups_4_or_more['prob'])\n",
                "print(prob_4_or_more)"
            ]
        },
        {
            "cell_type": "markdown",
            "metadata": {},
            "source": [
                "### Data back-ups\n",
                "\n",
                "The sales software used at your company is set to automatically back\n",
                "itself up, but no one knows exactly what time the back-ups happen. It is\n",
                "known, however, that back-ups happen exactly every 30 minutes. Amir\n",
                "comes back from sales meetings at random times to update the data on the\n",
                "client he just met with. He wants to know how long he'll have to wait\n",
                "for his newly-entered data to get backed up. Use your new knowledge of\n",
                "continuous uniform distributions to model this situation and answer\n",
                "Amir's questions.\n",
                "\n",
                "**Instructions**\n",
                "\n",
                "- To model how long Amir will wait for a back-up using a continuous\n",
                "  uniform distribution, save his lowest possible wait time as `min_time`\n",
                "  and his longest possible wait time as `max_time`. Remember that\n",
                "  back-ups happen every 30 minutes.\n",
                "\n",
                "<!-- -->\n",
                "\n",
                "- Import `uniform` from `scipy.stats` and calculate the probability that\n",
                "  Amir has to wait less than 5 minutes, and store in a variable called\n",
                "  `prob_less_than_5`.\n",
                "\n",
                "<!-- -->\n",
                "\n",
                "- Calculate the probability that Amir has to wait more than 5 minutes,\n",
                "  and store in a variable called `prob_greater_than_5`.\n",
                "\n",
                "<!-- -->\n",
                "\n",
                "- Calculate the probability that Amir has to wait between 10 and 20\n",
                "  minutes, and store in a variable called `prob_between_10_and_20`.\n",
                "\n",
                "**Answer**\n"
            ]
        },
        {
            "cell_type": "code",
            "execution_count": 58,
            "metadata": {},
            "outputs": [
                {
                    "name": "stdout",
                    "output_type": "stream",
                    "text": [
                        "Defaulting to user installation because normal site-packages is not writeable\n",
                        "Collecting scipy\n",
                        "  Downloading scipy-1.13.1-cp312-cp312-manylinux_2_17_aarch64.manylinux2014_aarch64.whl.metadata (113 kB)\n",
                        "\u001b[2K     \u001b[90m━━━━━━━━━━━━━━━━━━━━━━━━━━━━━━━━━━━━━━━\u001b[0m \u001b[32m113.1/113.1 kB\u001b[0m \u001b[31m4.0 MB/s\u001b[0m eta \u001b[36m0:00:00\u001b[0m\n",
                        "\u001b[?25hRequirement already satisfied: numpy<2.3,>=1.22.4 in /home/vscode/.local/lib/python3.12/site-packages (from scipy) (1.26.4)\n",
                        "Downloading scipy-1.13.1-cp312-cp312-manylinux_2_17_aarch64.manylinux2014_aarch64.whl (33.4 MB)\n",
                        "\u001b[2K   \u001b[90m━━━━━━━━━━━━━━━━━━━━━━━━━━━━━━━━━━━━━━━━\u001b[0m \u001b[32m33.4/33.4 MB\u001b[0m \u001b[31m2.2 MB/s\u001b[0m eta \u001b[36m0:00:00\u001b[0m00:01\u001b[0m00:01\u001b[0m\n",
                        "\u001b[?25hInstalling collected packages: scipy\n",
                        "Successfully installed scipy-1.13.1\n",
                        "Note: you may need to restart the kernel to use updated packages.\n"
                    ]
                }
            ],
            "source": [
                "pip install scipy"
            ]
        },
        {
            "cell_type": "code",
            "execution_count": 142,
            "metadata": {},
            "outputs": [
                {
                    "name": "stdout",
                    "output_type": "stream",
                    "text": [
                        "0.16666666666666666\n",
                        "0.8333333333333334\n",
                        "0.3333333333333333\n"
                    ]
                }
            ],
            "source": [
                "# Min and max wait times for back-up that happens every 30 min\n",
                "min_time = 0\n",
                "max_time = 30\n",
                "\n",
                "# Import uniform from scipy.stats\n",
                "from scipy.stats import uniform\n",
                "\n",
                "# Calculate probability of waiting less than 5 mins\n",
                "prob_less_than_5 = uniform.cdf(5, min_time, max_time)\n",
                "print(prob_less_than_5)\n",
                "\n",
                "\n",
                "# Calculate probability of waiting more than 5 mins\n",
                "prob_greater_than_5 = 1 - uniform.cdf(5, min_time, max_time)\n",
                "print(prob_greater_than_5)\n",
                "\n",
                "\n",
                "# Calculate probability of waiting 10-20 mins\n",
                "prob_between_10_and_20 = uniform.cdf(20, min_time, max_time) - uniform.cdf(10, min_time, max_time)\n",
                "print(prob_between_10_and_20)"
            ]
        },
        {
            "cell_type": "markdown",
            "metadata": {},
            "source": [
                "### Simulating wait times\n",
                "\n",
                "To give Amir a better idea of how long he'll have to wait, you'll\n",
                "simulate Amir waiting 1000 times and create a histogram to show him what\n",
                "he should expect. Recall from the last exercise that his minimum wait\n",
                "time is 0 minutes and his maximum wait time is 30 minutes.\n",
                "\n",
                "As usual, `pandas` as `pd`, `numpy` as `np`, and `matplotlib.pyplot` as\n",
                "`plt` are loaded.\n",
                "\n",
                "**Instructions**\n",
                "\n",
                "- Set the random seed to `334`.\n",
                "- Import `uniform` from `scipy.stats`.\n",
                "- Generate 1000 wait times from the continuous uniform distribution that models Amir's wait time. Save this as `wait_times`.\n",
                "- Create a histogram of the simulated wait times and show the plot.\n",
                "\n",
                "**Answer**\n"
            ]
        },
        {
            "cell_type": "code",
            "execution_count": 143,
            "metadata": {},
            "outputs": [
                {
                    "name": "stdout",
                    "output_type": "stream",
                    "text": [
                        "[ 7.144097    0.97455866  3.72802787  5.11644319  8.70602482 24.69140099\n",
                        " 23.98012075  3.19592668 25.1985306  17.89048629 24.68695356 18.27160808\n",
                        " 22.85829011  0.12929581 15.67789664  2.3262095  15.79151771 21.90473557\n",
                        " 18.25817257 15.78657023 28.74328434  9.38971275 17.0010565   0.95433991\n",
                        " 15.96917606  2.16395679  8.903302   19.24982156  6.52414731 14.10185677\n",
                        " 27.86973455 14.38121016 28.59233824 13.17550521 22.96382405  2.52904371\n",
                        "  6.2163781   8.40217036  4.48079914 28.16365298 19.73302715  3.63959282\n",
                        "  1.74002295  1.5324219  26.97096908 29.37490861  4.71379092  6.44990488\n",
                        "  6.81999564 22.81302458 12.41563042 11.14591581  8.08043184 29.60574053\n",
                        "  3.24571518 19.66709277 13.38939302 29.56433707 24.84697258  6.249684\n",
                        " 15.07668579  5.27474477 27.27430815  2.42084219 27.88317515  0.81231424\n",
                        "  3.48564273 19.80738592  6.11128124 19.10323692  9.12156821 28.31696467\n",
                        " 20.80158047 17.0840986  26.59969632 28.38502685 20.75398728 11.73610958\n",
                        " 20.55950389 18.20349931  4.68857179 17.67638417 29.99091109 18.67756789\n",
                        " 11.16391438  3.53028943 14.93882748 24.89203249 17.47310051 20.8740314\n",
                        " 16.6070177  19.19564265  8.96414904  5.28451257  1.05350993 21.77737031\n",
                        " 23.61684528 22.72809506 24.8322021  14.36218169  8.6091251  25.13656432\n",
                        " 11.45898163 19.92575672 25.12266034  7.63273768  5.0240165  20.92435348\n",
                        " 13.23933607  0.6401269  15.6813087  13.98669465  5.00961969 26.55407346\n",
                        " 15.6478544   5.36392254 22.2807534  22.95452053 12.09657902 15.33347354\n",
                        " 29.36367996 27.32761079 16.57775534 13.28054948 17.09693671 27.45768651\n",
                        "  2.59501602  9.41004409  9.14688319 19.72368555  0.8399502   1.36535784\n",
                        "  8.24745591 10.2650512  29.95498509 20.64562623  5.93986334 11.17818273\n",
                        " 26.32817252  8.07638083  6.6348515  16.29376148 29.99092275 25.71567927\n",
                        " 11.55546768 21.91960495 11.23343293 12.37874514 15.0825809  28.02838931\n",
                        " 22.8535862   8.8911682  27.94808637 18.59880054 19.31673054  4.78414772\n",
                        " 24.68245155  4.61858339  4.34185585  9.86285797 22.64196176 20.70638537\n",
                        "  2.07610021 16.5432359   0.83932634 26.55708037 11.96557209  8.07255521\n",
                        " 10.80342781 23.29099616 22.86574237 14.34997804  5.88657148 13.93691899\n",
                        "  3.85622609 15.39470306 21.25310818 18.36870054  8.06383855 27.35806466\n",
                        "  8.24616015 21.22703251 17.37235409  4.83719581 17.84253763  3.31270513\n",
                        " 28.05979944 28.42309918  8.73094692 25.71299775  2.22366188  4.30187426\n",
                        " 21.89436597 29.49072021 15.30664125 22.3802789   0.08102944 14.78896917\n",
                        " 16.40399119  7.68390804  2.10437223  6.68794817 10.19108918 22.31258787\n",
                        "  5.8189225  27.60781938 19.51339944 21.33124269  1.6294243  15.51174843\n",
                        " 13.47212795 16.24027513 22.10266715  5.52406499  7.22056009  7.36829948\n",
                        " 18.91081125 19.80927487 12.80401324  2.70031211 26.86102574 22.01951095\n",
                        " 17.17665123 18.81827876  3.67837051 15.46293386 29.51597515 15.89595847\n",
                        " 17.41855781 25.55857784 25.65737763 16.4151132   5.00323267 11.63197386\n",
                        " 17.66808546 25.466024   15.18486451  0.85940046 27.00984537 14.42468181\n",
                        " 27.4812224   9.47231537  2.05988889 17.30621667 24.95053845  5.57417231\n",
                        " 16.0357139  13.26420998 29.46815429  1.16904392  4.53575356 10.65537707\n",
                        " 11.26270564  6.0214732  27.64202445 10.29940068 28.54836132 22.22931556\n",
                        " 17.55762098 28.31703818  3.20547158  6.51317017  9.60103128 11.55504752\n",
                        "  1.10769737 25.19601111 26.41265999  3.17669809 29.03461951 23.78452941\n",
                        " 22.35394515 18.03280452 11.23378656 25.18138124 23.9597556  10.58566727\n",
                        "  2.56203807 16.32353266  8.34705721 21.65497161 27.82670318  3.24006097\n",
                        "  9.48180202  1.48689026 12.89086955  0.84704402 21.10201173  9.14793573\n",
                        " 27.17361576 18.45069642 14.49691685  3.98370201  0.44134824  5.05259221\n",
                        " 18.47816542  8.11334339 19.95136747  7.1754582  20.10018729  4.97982617\n",
                        "  8.81527565  5.76132824 15.72125645  4.76049255  4.76730185  4.54755451\n",
                        " 11.99610604 22.19271804  7.0054561   0.9554475  12.72622458  5.10178612\n",
                        "  3.46974455  7.75842307 13.13578589  3.8451399  11.02848319  5.77758805\n",
                        " 16.19423275 23.15484726 20.1239129   8.50840771 10.91441361  7.11704929\n",
                        " 20.25016912 28.69395694 20.42004446 24.35824921 24.56208344 18.70863082\n",
                        "  1.55698104 27.49671811  2.57368945 23.03303579  2.38875615 13.98131955\n",
                        " 21.8838685   8.44024292 25.05019036 21.95993093  8.76034493 22.85418651\n",
                        " 26.07063198  5.46361622 25.58172855 15.67874872 17.81956733 26.81841668\n",
                        " 13.19033546 23.19910687 23.62718492 13.15663104 23.41668296  1.87489683\n",
                        " 25.2484807   8.4845543   4.92042842 22.73961665 20.2466653  19.58723259\n",
                        "  2.03270822 22.9895573   7.3372969  17.54273192 21.09771191 16.96192787\n",
                        "  3.48948107 16.15590988 17.70440831  1.60420151 19.81559878 25.80086106\n",
                        " 15.68959678 18.83009183 23.19198615 12.66930187  7.00118096  6.64600958\n",
                        " 19.87400439 19.55842619 25.54278522 14.27653959 12.0734572  22.78237983\n",
                        " 17.15165279 24.08463516 28.59624819 28.16152099  5.93891699 16.94105605\n",
                        " 20.80665928  9.99890108  8.79730012  7.05110922  3.8104523   5.62610024\n",
                        "  5.58639014 18.78260685  9.95891585 20.62479473 28.77797774 25.81469814\n",
                        "  2.25609181 13.65905187 21.1528068   8.01290913  7.73848867 26.88193447\n",
                        " 21.44953343 10.12615075 19.75731318  4.27872352 20.30849315 26.77882578\n",
                        "  1.351449   20.8075843   0.46173517 19.80997905  9.7624355  17.37924972\n",
                        "  1.43062491 22.20157066 25.1824487  28.8357933  16.09702531 24.73842767\n",
                        "  0.2308042   6.13048075 29.614561    8.33629603 16.12795224 29.21240454\n",
                        " 13.45025092 28.92901674 28.68113999 18.76015795  8.85400148  0.72177506\n",
                        " 18.5678127   1.5946721   6.51114298  0.14954964  8.40759558 15.3456776\n",
                        " 18.16257912 21.48146244 19.35734786  6.69307887 11.14786018  5.19542535\n",
                        " 20.11979092 15.36643858  1.75976538  1.88235419 14.67047828 17.87206607\n",
                        " 23.89728101 11.53568193 19.55519337 12.9925055   3.75560435  8.84921298\n",
                        " 10.41509647 10.05015649  2.08203941 13.95507535 18.69687686  3.65394569\n",
                        " 16.73715719 25.9668531  19.90170356 10.66486523 27.98606183 19.33610382\n",
                        " 27.37475735 24.1411498  28.39648506 10.56397635 17.67065935 19.81446104\n",
                        "  5.08556252 21.61589418  4.91334443 10.25571404 13.86547777 28.5015485\n",
                        " 19.52083861 22.05488912  9.17148377  1.11732389 18.30445657 13.80853\n",
                        "  2.00270834 26.65687785  8.33324258 16.37203881 24.89846207  8.62610704\n",
                        " 29.82242843 16.81338141 17.33734435  1.0612399  29.2449401   6.66842773\n",
                        " 14.65276829 11.46127532  5.94042969  8.51718703 19.16192131 27.77484802\n",
                        " 26.80478414 18.46459441 14.64021886 10.41881806  5.05273386 22.93123257\n",
                        " 12.32037453 29.07333784 19.8933068  19.33393445 23.75624561 27.41576612\n",
                        "  4.89400728 27.97022569  5.46431449 26.39553105 23.10148492  5.59326106\n",
                        "  5.43438053 12.80881651 22.58136604  6.81522341  1.29891598  8.92824717\n",
                        "  0.06222649  0.31415758  1.49504525 14.46068646 17.65853438  7.4496374\n",
                        " 17.22446855 21.84287476 21.60599421 28.86047834 28.24253893  7.10948381\n",
                        " 26.95417677 22.69920835 14.85402627  8.3681587  29.58708806 13.78486659\n",
                        " 17.35864925 26.46297136 21.22739031 28.53046947  8.93805023  7.02914326\n",
                        " 11.80133052 18.99940059 14.08892962  3.85612353 13.56279119 20.12274586\n",
                        " 16.74078625 29.53044614  5.18316362 11.53812907 27.43654492  0.42476924\n",
                        " 29.87062735  5.50874294  3.8568494   6.41204685 20.30702925  3.32308882\n",
                        "  3.94770677  6.87059867  3.93014852 21.98204107  0.86507581 20.56982783\n",
                        " 10.47517828  5.51681714 28.14377379 29.45286026 11.06512511 16.61676719\n",
                        "  1.98579434  5.54260989  1.07592481  2.31764882  8.88290412 21.4881271\n",
                        " 22.64224754  7.27994039  9.37643238 10.83908073  0.69663121 21.23717882\n",
                        "  9.66027816 16.97956524 14.81638878 16.5534871   9.75601043  5.93087217\n",
                        " 28.36797115 21.09462207 13.03173376  0.7983171   3.50516639 19.00649926\n",
                        "  5.82081691  5.81833671 20.61983383 28.71056507  6.91237663 12.4619051\n",
                        " 12.30761644 19.84040954  4.64447622  0.64917761 19.86567877  5.99418851\n",
                        "  1.35794716 27.48067897 29.73644518 28.6065078   8.5299145   4.12152041\n",
                        "  0.5607774  18.57081877 22.17373158  7.58966957 18.2784296  10.70211771\n",
                        " 11.13177466 29.30678999  1.2423198  14.35713294 17.35500663 17.14866592\n",
                        " 10.3789623  24.17742423 14.94162775  2.59992154 11.85508506 27.4947809\n",
                        " 22.37927752 16.63597764  2.18654009 27.58998237 24.9960839  18.97091648\n",
                        " 19.87097998 29.71143066 18.15641786  8.02594757 12.34873726  6.39950324\n",
                        " 26.71285573  5.72013105 27.25611587 11.11118651 13.14563054 24.3161132\n",
                        "  9.12227066  6.09164062  7.61512695 15.27894726  1.55172543 16.11462964\n",
                        " 20.01927489  0.36023495 22.18975204 10.68017381 26.67207213 18.49390616\n",
                        " 14.12316947 12.30157185 24.46937392  2.94349773  2.71721257 19.89328934\n",
                        " 11.60564868 20.99716418  6.83938153  3.15126472 21.18057782 23.04084254\n",
                        " 29.52319489 13.41468779  8.36540008  1.17474372 16.52320975 16.29079038\n",
                        " 23.68058086  9.73990339 21.21125025 11.64009223  8.27581985 25.34508281\n",
                        " 27.14020237 20.99498767 26.36379634 22.12460919 14.38182874 12.83843751\n",
                        "  2.4921115   3.30654254 15.38775096  9.47486316 16.53719202 12.18243936\n",
                        "  6.94896378  5.99117553 16.06222869  5.82268307 10.69273715  8.58678605\n",
                        " 27.77414396  6.29565658 22.85039389 22.68722007  0.43084526 19.12501901\n",
                        " 23.05647004  6.23804663 16.49611786 10.854354   12.4620608  26.2548841\n",
                        " 19.76816626  6.54492209 28.71514653  7.80202629 16.96751571 11.15377563\n",
                        " 22.80092952  5.09403519 24.00001246  8.21769557 13.53560859  2.94076629\n",
                        "  4.02757203  8.96659938  6.86912639 12.0326642  27.15751025 15.4782868\n",
                        "  7.22781653 17.19415714 10.47116023 21.49491811  5.4747806  26.51862933\n",
                        " 26.16289208 29.74722369 26.5735013  16.7792301  15.31299374  5.97510684\n",
                        " 14.539767    5.34494067  8.90650139 13.70810391  0.63137974  9.78624106\n",
                        " 22.98898991 21.52163702  5.36747243  2.08048168  7.42243152 25.8369847\n",
                        " 25.40242175 13.07497422 28.66966768 24.04491316 21.29637332  7.42492739\n",
                        "  2.11604443 29.49179095  4.27645773  8.61358603 17.16555207 26.59803794\n",
                        " 13.78944191 15.62067191  9.21670849 12.14562662 10.52617782 25.98579879\n",
                        " 14.39787573  8.08763319 16.78552727 22.79597812  8.7695133  17.27072338\n",
                        " 24.43151203 16.88485001 24.44534146 16.21756467 13.61941002 19.87394843\n",
                        " 12.63576776 14.50185412 26.83264391  3.00081583 16.48057545  2.45212633\n",
                        " 18.83439311 13.19865842  9.40766691 15.60923545  1.63933761 23.76828936\n",
                        " 10.15252566  0.40447879 24.59292978  1.3675066   9.71814934 12.16659686\n",
                        " 23.04867235 20.03414656  8.5168254  19.59414161  6.77825259  8.8070403\n",
                        "  5.87152425  2.5970591   4.93086037 21.00689143 10.53794997  4.50059669\n",
                        "  4.80161712 19.86587841 13.82231035 25.92370876 16.76861995 19.88191792\n",
                        "  5.11770677 29.00105159 25.65446515  6.84179709 22.57233685  8.15577205\n",
                        " 24.13735729  4.03149435  4.13231282 16.12464321 22.48533776 20.282976\n",
                        "  5.74012718 22.43342651  2.60477234  3.21766129  5.65283575 28.84370986\n",
                        " 23.65634284 21.7798963  16.85637734  0.61478999  4.53882038  4.65444933\n",
                        "  9.04857098 19.63428333 15.00766938 17.76592972 21.46082362 25.77459268\n",
                        " 19.85548771  8.20584755  8.47650143 21.69630957  3.13097349 10.20447772\n",
                        " 29.66564838 23.56946713 26.2778947  23.81853285 10.81655255  6.05639951\n",
                        "  2.85441413 19.56517693 23.71136826 20.36624573  6.59131157 23.74895849\n",
                        " 22.42574624 10.31297875  6.60447634  5.37750477 29.10394928 12.33961909\n",
                        " 14.61065264 27.83726115  5.16829978 19.01401557  5.2640168  10.30361904\n",
                        " 24.32169445  3.18704573 25.06890427 26.01541021 13.94792952 21.25266832\n",
                        " 25.93658805 16.80375076  1.50816509  2.64600638 13.47500562 15.08548187\n",
                        " 14.90796765 20.88436957 22.53457433 15.84915157  8.86204958 27.73245412\n",
                        " 11.22385246 15.78749796 15.91197569 22.37113884  3.19226887  4.65976517\n",
                        "  9.30923397 10.77526643  3.97151627 29.28059273 29.27602822 20.71976894\n",
                        " 18.60895651  4.29611269 23.93608872 22.58290622  4.47426371  7.2489746\n",
                        " 15.22674952 27.63320022  8.78304562 28.40607909 17.1539386   2.61718331\n",
                        " 10.65596075 29.8980006  29.91966885 27.34174997  0.61629001 15.17716754\n",
                        "  9.90825324 16.72368794 12.96779625 10.46723235  1.79071474  4.91140186\n",
                        "  0.71891742 27.83882355 26.95599526 19.63276655 25.02837667  6.70120501\n",
                        " 27.8039181   3.93032514 29.20218039 20.45922096 18.39870488  6.64103042\n",
                        " 15.9427296  29.26956198 29.75236465  6.24029179 10.9032813  25.74945237\n",
                        " 19.34538144 16.31296664 10.93219849 10.70922385 21.19432171 10.39189311\n",
                        "  1.8610141  24.11741202 25.59864155  0.68627027 15.7876837   1.10010957\n",
                        "  3.47094738 27.61646738 10.07577678 19.84021078 27.29452887  8.52034156\n",
                        "  5.181769   12.92311547 14.25423041 26.70151037 27.44545754 24.06119139\n",
                        " 14.00076717  8.56031135 25.99043117 20.11722212]\n"
                    ]
                }
            ],
            "source": [
                "# Set random seed to 334\n",
                "np.random.seed(334)\n",
                "\n",
                "# Import uniform\n",
                "from scipy.stats import uniform\n",
                "\n",
                "# Generate 1000 wait times between 0 and 30 mins\n",
                "wait_times = uniform.rvs(0, 30, size=1000)\n",
                "\n",
                "print(wait_times)"
            ]
        },
        {
            "cell_type": "code",
            "execution_count": 144,
            "metadata": {},
            "outputs": [
                {
                    "data": {
                        "image/png": "[encoded data removed]",
                        "text/plain": [
                            "<Figure size 640x480 with 1 Axes>"
                        ]
                    },
                    "metadata": {},
                    "output_type": "display_data"
                }
            ],
            "source": [
                "# Create a histogram of simulated times and show plot\n",
                "plt.hist(wait_times)\n",
                "plt.show()"
            ]
        },
        {
            "cell_type": "markdown",
            "metadata": {},
            "source": [
                "### Simulating sales deals\n",
                "\n",
                "Assume that Amir usually works on 3 deals per week, and overall, he wins\n",
                "30% of deals he works on. Each deal has a binary outcome: it's either\n",
                "lost, or won, so you can model his sales deals with a binomial\n",
                "distribution. In this exercise, you'll help Amir simulate a year's worth\n",
                "of his deals so he can better understand his performance.\n",
                "\n",
                "`numpy` is imported as `np`.\n",
                "\n",
                "**Instructions**\n",
                "\n",
                "- Import `binom` from `scipy.stats` and set the random seed to 10.\n",
                "\n",
                "<!-- -->\n",
                "\n",
                "- Simulate 1 deal worked on by Amir, who wins 30% of the deals he works\n",
                "  on.\n",
                "\n",
                "<!-- -->\n",
                "\n",
                "- Simulate a typical week of Amir's deals, or one week of 3 deals.\n",
                "\n",
                "<!-- -->\n",
                "\n",
                "- Simulate a year's worth of Amir's deals, or 52 weeks of 3 deals each,\n",
                "  and store in `deals`.\n",
                "- Print the mean number of deals he won per week.\n",
                "\n",
                "**Answer**\n"
            ]
        },
        {
            "cell_type": "code",
            "execution_count": 145,
            "metadata": {},
            "outputs": [
                {
                    "name": "stdout",
                    "output_type": "stream",
                    "text": [
                        "[1]\n",
                        "[0]\n",
                        "0.8461538461538461\n"
                    ]
                }
            ],
            "source": [
                "# Import binom from scipy.stats\n",
                "from scipy.stats import binom\n",
                "\n",
                "# Set random seed to 10\n",
                "np.random.seed(10)\n",
                "\n",
                "# Simulate a single deal\n",
                "print(binom.rvs(1, 0.3, size=1))\n",
                "\n",
                "\n",
                "# Simulate 1 week of 3 deals\n",
                "print(binom.rvs(3, 0.3, size=1))\n",
                "\n",
                "\n",
                "# Simulate 52 weeks of 3 deals\n",
                "deals = binom.rvs(3, 0.3, size=52)\n",
                "\n",
                "# Print mean deals won per week\n",
                "print(np.mean(deals))"
            ]
        },
        {
            "cell_type": "markdown",
            "metadata": {},
            "source": [
                "### Calculating binomial probabilities\n",
                "\n",
                "Just as in the last exercise, assume that Amir wins 30% of deals. He\n",
                "wants to get an idea of how likely he is to close a certain number of\n",
                "deals each week. In this exercise, you'll calculate what the chances are\n",
                "of him closing different numbers of deals using the binomial\n",
                "distribution.\n",
                "\n",
                "`binom` is imported from `scipy.stats`.\n",
                "\n",
                "**Instructions**\n",
                "\n",
                "- What's the probability that Amir closes all 3 deals in a week? Save\n",
                "  this as `prob_3`.\n",
                "- What's the probability that Amir closes 1 or fewer deals in a week? Save this as `prob_less_than_or_equal_1`.\n",
                "- What's the probability that Amir closes more than 1 deal? Save this as `prob_greater_than_1`.\n",
                "\n",
                "**Answer**\n"
            ]
        },
        {
            "cell_type": "code",
            "execution_count": 146,
            "metadata": {},
            "outputs": [
                {
                    "name": "stdout",
                    "output_type": "stream",
                    "text": [
                        "0.026999999999999996\n",
                        "0.784\n",
                        "0.21599999999999997\n"
                    ]
                }
            ],
            "source": [
                "# Probability of closing 3 out of 3 deals\n",
                "prob_3 = binom.pmf(3, 3, 0.3)\n",
                "\n",
                "print(prob_3)\n",
                "\n",
                "# Probability of closing <= 1 deal out of 3 deals\n",
                "prob_less_than_or_equal_1 = binom.cdf(1, 3, 0.3)\n",
                "\n",
                "print(prob_less_than_or_equal_1)\n",
                "\n",
                "# Probability of closing > 1 deal out of 3 deals\n",
                "prob_greater_than_1 = 1 - binom.cdf(1, 3, 0.3)\n",
                "\n",
                "print(prob_greater_than_1)"
            ]
        },
        {
            "cell_type": "markdown",
            "metadata": {},
            "source": [
                "### How many sales will be won?\n",
                "\n",
                "Now Amir wants to know how many deals he can expect to close each week\n",
                "if his win rate changes. Luckily, you can use your binomial distribution\n",
                "knowledge to help him calculate the expected value in different\n",
                "situations. Recall from the video that the expected value of a binomial\n",
                "distribution can be calculated by \\\\n \\times p\\\\.\n",
                "\n",
                "**Instructions**\n",
                "\n",
                "- Calculate the expected number of sales out of the **3** he works on\n",
                "  that Amir will win each week if he maintains his 30% win rate.\n",
                "- Calculate the expected number of sales out of the 3 he works on that\n",
                "  he'll win if his win rate drops to 25%.\n",
                "- Calculate the expected number of sales out of the 3 he works on that\n",
                "  he'll win if his win rate rises to 35%.\n",
                "\n",
                "**Answer**\n"
            ]
        },
        {
            "cell_type": "code",
            "execution_count": 147,
            "metadata": {},
            "outputs": [
                {
                    "name": "stdout",
                    "output_type": "stream",
                    "text": [
                        "0.8999999999999999\n",
                        "0.75\n",
                        "1.0499999999999998\n"
                    ]
                }
            ],
            "source": [
                "# Expected number won with 30% win rate\n",
                "won_30pct = 3 * 0.3\n",
                "print(won_30pct)\n",
                "\n",
                "# Expected number won with 25% win rate\n",
                "won_25pct = 3 * 0.25\n",
                "print(won_25pct)\n",
                "\n",
                "# Expected number won with 35% win rate\n",
                "won_35pct = 3 * 0.35\n",
                "print(won_35pct)\n"
            ]
        },
        {
            "cell_type": "markdown",
            "metadata": {},
            "source": [
                "## More Distributions and the Central Limit Theorem\n",
                "\n",
                "### Distribution of Amir's sales\n",
                "\n",
                "Since each deal Amir worked on (both won and lost) was different, each\n",
                "was worth a different amount of money. These values are stored in the\n",
                "`amount` column of `amir_deals` As part of Amir's performance review,\n",
                "you want to be able to estimate the probability of him selling different\n",
                "amounts, but before you can do this, you'll need to determine what kind\n",
                "of distribution the `amount` variable follows.\n",
                "\n",
                "Both `pandas` as `pd` and `matplotlib.pyplot` as `plt` are loaded and\n",
                "`amir_deals` is available.\n",
                "\n",
                "**Instructions**\n",
                "\n",
                "- Create a histogram with 10 bins to visualize the distribution of the\n",
                "  `amount`. Show the plot.\n",
                "\n",
                "**Answer**\n"
            ]
        },
        {
            "cell_type": "code",
            "execution_count": 148,
            "metadata": {},
            "outputs": [
                {
                    "data": {
                        "image/png": "[encoded data removed]",
                        "text/plain": [
                            "<Figure size 640x480 with 1 Axes>"
                        ]
                    },
                    "metadata": {},
                    "output_type": "display_data"
                }
            ],
            "source": [
                "# Histogram of amount with 10 bins and show plot\n",
                "amir_deals['amount'].hist(bins=10)\n",
                "plt.show()\n"
            ]
        },
        {
            "cell_type": "markdown",
            "metadata": {},
            "source": [
                "### Probabilities from the normal distribution\n",
                "\n",
                "Since each deal Amir worked on (both won and lost) was different, each\n",
                "was worth a different amount of money. These values are stored in the\n",
                "`amount` column of `amir_deals` and follow a normal distribution with a\n",
                "mean of 5000 dollars and a standard deviation of 2000 dollars. As part\n",
                "of his performance metrics, you want to calculate the probability of\n",
                "Amir closing a deal worth various amounts.\n",
                "\n",
                "`norm` from `scipy.stats` is imported as well as `pandas` as `pd`. The\n",
                "DataFrame `amir_deals` is loaded.\n",
                "\n",
                "**Instructions**\n",
                "\n",
                "- What's the probability of Amir closing a deal worth less than \\$7500?\n",
                "\n",
                "<!-- -->\n",
                "\n",
                "- What's the probability of Amir closing a deal worth more than \\$1000?\n",
                "\n",
                "<!-- -->\n",
                "\n",
                "- What's the probability of Amir closing a deal worth between \\$3000 and\n",
                "  \\$7000?\n",
                "\n",
                "<!-- -->\n",
                "\n",
                "- What amount will 25% of Amir's sales be *less than*?\n",
                "\n",
                "**Answer**\n"
            ]
        },
        {
            "cell_type": "code",
            "execution_count": 149,
            "metadata": {},
            "outputs": [
                {
                    "ename": "NameError",
                    "evalue": "name 'norm' is not defined",
                    "output_type": "error",
                    "traceback": [
                        "\u001b[0;31m---------------------------------------------------------------------------\u001b[0m",
                        "\u001b[0;31mNameError\u001b[0m                                 Traceback (most recent call last)",
                        "Cell \u001b[0;32mIn[149], line 2\u001b[0m\n\u001b[1;32m      1\u001b[0m \u001b[38;5;66;03m# Probability of deal < 7500\u001b[39;00m\n\u001b[0;32m----> 2\u001b[0m prob_less_7500 \u001b[38;5;241m=\u001b[39m \u001b[43mnorm\u001b[49m\u001b[38;5;241m.\u001b[39mcdf(\u001b[38;5;241m7500\u001b[39m, \u001b[38;5;241m5000\u001b[39m, \u001b[38;5;241m2000\u001b[39m)\n\u001b[1;32m      4\u001b[0m \u001b[38;5;28mprint\u001b[39m(prob_less_7500)\n\u001b[1;32m      7\u001b[0m \u001b[38;5;66;03m# Probability of deal > 1000\u001b[39;00m\n",
                        "\u001b[0;31mNameError\u001b[0m: name 'norm' is not defined"
                    ]
                }
            ],
            "source": [
                "# Probability of deal < 7500\n",
                "prob_less_7500 = norm.cdf(7500, 5000, 2000)\n",
                "\n",
                "print(prob_less_7500)\n",
                "\n",
                "\n",
                "# Probability of deal > 1000\n",
                "prob_over_1000 = 1 - norm.cdf(1000, 5000, 2000)\n",
                "\n",
                "print(prob_over_1000)\n",
                "\n",
                "\n",
                "# Probability of deal between 3000 and 7000\n",
                "prob_3000_to_7000 = norm.cdf(7000, 5000, 2000) - norm.cdf(3000, 5000, 2000)\n",
                "\n",
                "print(prob_3000_to_7000)\n",
                "\n",
                "\n",
                "# Calculate amount that 25% of deals will be less than\n",
                "pct_25 = norm.ppf(0.25, 5000, 2000)\n",
                "\n",
                "print(pct_25)\n"
            ]
        },
        {
            "cell_type": "markdown",
            "metadata": {},
            "source": [
                "### Simulating sales under new market conditions\n",
                "\n",
                "The company's financial analyst is predicting that next quarter, the\n",
                "worth of each sale will increase by 20% and the volatility, or standard\n",
                "deviation, of each sale's worth will increase by 30%. To see what Amir's\n",
                "sales might look like next quarter under these new market conditions,\n",
                "you'll simulate new sales amounts using the normal distribution and\n",
                "store these in the `new_sales` DataFrame, which has already been created\n",
                "for you.\n",
                "\n",
                "In addition, `norm` from `scipy.stats`, `pandas` as `pd`, and\n",
                "`matplotlib.pyplot` as `plt` are loaded.\n",
                "\n",
                "**Instructions**\n",
                "\n",
                "- Currently, Amir's average sale amount is \\$5000. Calculate what his\n",
                "  new average amount will be if it increases by 20% and store this in\n",
                "  `new_mean`.\n",
                "- Amir's current standard deviation is \\$2000. Calculate what his new\n",
                "  standard deviation will be if it increases by 30% and store this in\n",
                "  `new_sd`.\n",
                "- Create a variable called `new_sales`, which contains 36 simulated\n",
                "  amounts from a normal distribution with a mean of `new_mean` and a\n",
                "  standard deviation of `new_sd`.\n",
                "- Plot the distribution of the `new_sales` `amount`s using a histogram\n",
                "  and show the plot.\n",
                "\n",
                "**Answer**\n"
            ]
        },
        {
            "cell_type": "code",
            "execution_count": null,
            "metadata": {},
            "outputs": [],
            "source": [
                "# Calculate new average amount\n",
                "new_mean = 5000 * 1.2\n",
                "\n",
                "# Calculate new standard deviation\n",
                "new_sd = 2000 * 1.3\n",
                "\n",
                "# Simulate 36 new sales\n",
                "new_sales = norm.rvs(new_mean, new_sd, size=36)\n",
                "\n",
                "# Create histogram and show\n",
                "plt.hist(new_sales)\n",
                "plt.show()\n"
            ]
        },
        {
            "cell_type": "markdown",
            "metadata": {},
            "source": [
                "### The CLT in action\n",
                "\n",
                "The central limit theorem states that a sampling distribution of a\n",
                "sample statistic approaches the normal distribution as you take more\n",
                "samples, no matter the original distribution being sampled from.\n",
                "\n",
                "In this exercise, you'll focus on the sample mean and see the central\n",
                "limit theorem in action while examining the `num_users` column of\n",
                "`amir_deals` more closely, which contains the number of people who\n",
                "intend to use the product Amir is selling.\n",
                "\n",
                "`pandas` as `pd`, `numpy` as `np`, and `matplotlib.pyplot` as `plt` are\n",
                "loaded and `amir_deals` is available.\n",
                "\n",
                "**Instructions**\n",
                "\n",
                "- Create a histogram of the `num_users` column of `amir_deals` and show\n",
                "  the plot.\n",
                "- Set the seed to `104`.\n",
                "- Take a sample of size `20` with replacement from the `num_users` column of `amir_deals`, and take the mean.\n",
                "- Repeat this 100 times using a `for` loop and store as `sample_means`. This will take 100 different samples and calculate the mean of each.\n",
                "- Convert `sample_means` into a `pd.Series`, create a histogram of the `sample_means`, and show the plot.\n",
                "\n",
                "**Answer**\n"
            ]
        },
        {
            "cell_type": "code",
            "execution_count": null,
            "metadata": {},
            "outputs": [],
            "source": [
                "# Create a histogram of num_users and show\n",
                "amir_deals['num_users'].hist()\n",
                "plt.show()\n",
                "\n",
                "\n",
                "# Set seed to 104\n",
                "np.random.seed(104)\n",
                "\n",
                "# Sample 20 num_users with replacement from amir_deals\n",
                "samp_20 = amir_deals['num_users'].sample(20, replace=True)\n",
                "\n",
                "# Take mean of samp_20\n",
                "print(np.mean(samp_20))\n",
                "\n",
                "\n",
                "# Set seed to 104\n",
                "np.random.seed(104)\n",
                "\n",
                "# Sample 20 num_users with replacement from amir_deals and take mean\n",
                "samp_20 = amir_deals['num_users'].sample(20, replace=True)\n",
                "np.mean(samp_20)\n",
                "\n",
                "sample_means = []\n",
                "# Loop 100 times\n",
                "for i in range(100):\n",
                "  # Take sample of 20 num_users\n",
                "  samp_20 = amir_deals['num_users'].sample(20, replace=True)\n",
                "  # Calculate mean of samp_20\n",
                "  samp_20_mean = np.mean(samp_20)\n",
                "  # Append samp_20_mean to sample_means\n",
                "  sample_means.append(samp_20_mean)\n",
                "  \n",
                "print(sample_means)\n",
                "\n",
                "\n",
                "# Set seed to 104\n",
                "np.random.seed(104)\n",
                "\n",
                "sample_means = []\n",
                "# Loop 100 times\n",
                "for i in range(100):\n",
                "  # Take sample of 20 num_users\n",
                "  samp_20 = amir_deals['num_users'].sample(20, replace=True)\n",
                "  # Calculate mean of samp_20\n",
                "  samp_20_mean = np.mean(samp_20)\n",
                "  # Append samp_20_mean to sample_means\n",
                "  sample_means.append(samp_20_mean)\n",
                "  \n",
                "# Convert to Series and plot histogram\n",
                "sample_means_series = pd.Series(sample_means)\n",
                "sample_means_series.hist()\n",
                "# Show plot\n",
                "plt.show()\n"
            ]
        },
        {
            "cell_type": "markdown",
            "metadata": {},
            "source": [
                "### The mean of means\n",
                "\n",
                "You want to know what the average number of users (`num_users`) is per\n",
                "deal, but you want to know this number for the entire company so that\n",
                "you can see if Amir's deals have more or fewer users than the company's\n",
                "average deal. The problem is that over the past year, the company has\n",
                "worked on more than ten thousand deals, so it's not realistic to compile\n",
                "all the data. Instead, you'll estimate the mean by taking several random\n",
                "samples of deals, since this is much easier than collecting data from\n",
                "everyone in the company.\n",
                "\n",
                "`amir_deals` is available and the user data for all the company's deals\n",
                "is available in `all_deals`. Both `pandas` as `pd` and `numpy` as `np`\n",
                "are loaded.\n",
                "\n",
                "**Instructions**\n",
                "\n",
                "- Set the random seed to `321`.\n",
                "- Take 30 samples (with replacement) of size 20 from\n",
                "  `all_deals['num_users']` and take the mean of each sample. Store the\n",
                "  sample means in `sample_means`.\n",
                "- Print the mean of `sample_means`.\n",
                "- Print the mean of the `num_users` column of `amir_deals`.\n",
                "\n",
                "**Answer**\n"
            ]
        },
        {
            "cell_type": "code",
            "execution_count": null,
            "metadata": {},
            "outputs": [],
            "source": [
                "# Set seed to 321\n",
                "np.random.seed(321)\n",
                "\n",
                "sample_means = []\n",
                "# Loop 30 times to take 30 means\n",
                "for i in range(30):\n",
                "  # Take sample of size 20 from num_users col of all_deals with replacement\n",
                "  cur_sample = all_deals['num_users'].sample(20, replace=True)\n",
                "  # Take mean of cur_sample\n",
                "  cur_mean = np.mean(cur_sample)\n",
                "  # Append cur_mean to sample_means\n",
                "  sample_means.append(cur_mean)\n",
                "\n",
                "# Print mean of sample_means\n",
                "print(np.mean(sample_means))\n",
                "\n",
                "# Print mean of num_users in amir_deals\n",
                "print(np.mean(amir_deals['num_users']))\n"
            ]
        },
        {
            "cell_type": "markdown",
            "metadata": {},
            "source": [
                "### Tracking lead responses\n",
                "\n",
                "Your company uses sales software to keep track of new sales leads. It\n",
                "organizes them into a queue so that anyone can follow up on one when\n",
                "they have a bit of free time. Since the number of lead responses is a\n",
                "countable outcome over a period of time, this scenario corresponds to a\n",
                "Poisson distribution. On average, Amir responds to 4 leads each day. In\n",
                "this exercise, you'll calculate probabilities of Amir responding to\n",
                "different numbers of leads.\n",
                "\n",
                "**Instructions**\n",
                "\n",
                "- Import `poisson` from `scipy.stats` and calculate the probability that\n",
                "  Amir responds to 5 leads in a day, given that he responds to an\n",
                "  average of 4.\n",
                "\n",
                "<!-- -->\n",
                "\n",
                "- Amir's coworker responds to an average of 5.5 leads per day. What is\n",
                "  the probability that she answers 5 leads in a day?\n",
                "\n",
                "<!-- -->\n",
                "\n",
                "- What's the probability that Amir responds to 2 or fewer leads in a\n",
                "  day?\n",
                "\n",
                "<!-- -->\n",
                "\n",
                "- What's the probability that Amir responds to more than 10 leads in a\n",
                "  day?\n",
                "\n",
                "**Answer**\n"
            ]
        },
        {
            "cell_type": "code",
            "execution_count": null,
            "metadata": {},
            "outputs": [],
            "source": [
                "# Import poisson from scipy.stats\n",
                "from scipy.stats import poisson\n",
                "\n",
                "# Probability of 5 responses\n",
                "prob_5 = poisson.pmf(5, 4)\n",
                "\n",
                "print(prob_5)\n",
                "\n",
                "\n",
                "# Import poisson from scipy.stats\n",
                "from scipy.stats import poisson\n",
                "\n",
                "# Probability of 5 responses\n",
                "prob_coworker = poisson.pmf(5, 5.5)\n",
                "\n",
                "print(prob_coworker)\n",
                "\n",
                "\n",
                "# Import poisson from scipy.stats\n",
                "from scipy.stats import poisson\n",
                "\n",
                "# Probability of 2 or fewer responses\n",
                "prob_2_or_less = poisson.cdf(2, 4)\n",
                "\n",
                "print(prob_2_or_less)\n",
                "\n",
                "\n",
                "# Import poisson from scipy.stats\n",
                "from scipy.stats import poisson\n",
                "\n",
                "# Probability of > 10 responses\n",
                "prob_over_10 = 1 - poisson.cdf(10, 4)\n",
                "\n",
                "print(prob_over_10)\n"
            ]
        },
        {
            "cell_type": "markdown",
            "metadata": {},
            "source": [
                "### Modeling time between leads\n",
                "\n",
                "To further evaluate Amir's performance, you want to know how much time\n",
                "it takes him to respond to a lead after he opens it. On average, he\n",
                "responds to 1 request every 2.5 hours. In this exercise, you'll\n",
                "calculate probabilities of different amounts of time passing between\n",
                "Amir receiving a lead and sending a response.\n",
                "\n",
                "**Instructions**\n",
                "\n",
                "- Import `expon` from `scipy.stats`. What's the probability it takes\n",
                "  Amir less than an hour to respond to a lead?\n",
                "\n",
                "<!-- -->\n",
                "\n",
                "- What's the probability it takes Amir more than 4 hours to respond to a\n",
                "  lead?\n",
                "\n",
                "<!-- -->\n",
                "\n",
                "- What's the probability it takes Amir 3-4 hours to respond to a lead?\n",
                "\n",
                "**Answer**\n"
            ]
        },
        {
            "cell_type": "code",
            "execution_count": null,
            "metadata": {},
            "outputs": [],
            "source": [
                "# Import expon from scipy.stats\n",
                "from scipy.stats import expon\n",
                "\n",
                "# Print probability response takes < 1 hour\n",
                "print(expon.cdf(1, scale=2.5))\n",
                "\n",
                "\n",
                "# Import expon from scipy.stats\n",
                "from scipy.stats import expon\n",
                "\n",
                "# Print probability response takes > 4 hours\n",
                "print(1 - expon.cdf(4, scale=2.5))\n",
                "\n",
                "\n",
                "# Import expon from scipy.stats\n",
                "from scipy.stats import expon\n",
                "\n",
                "# Print probability response takes 3-4 hours\n",
                "print(expon.cdf(4, scale=2.5) - expon.cdf(3, scale=2.5))\n"
            ]
        },
        {
            "cell_type": "markdown",
            "metadata": {},
            "source": [
                "## Correlation and Experimental Design\n",
                "\n",
                "### Relationships between variables\n",
                "\n",
                "In this chapter, you'll be working with a dataset `world_happiness`\n",
                "containing results from the [2019 World Happiness\n",
                "Report](https://worldhappiness.report/ed/2019/). The report scores\n",
                "various countries based on how happy people in that country are. It also\n",
                "ranks each country on various societal aspects such as social support,\n",
                "freedom, corruption, and others. The dataset also includes the GDP per\n",
                "capita and life expectancy for each country.\n",
                "\n",
                "In this exercise, you'll examine the relationship between a country's\n",
                "life expectancy (`life_exp`) and happiness score (`happiness_score`)\n",
                "both visually and quantitatively. `seaborn` as `sns`,\n",
                "`matplotlib.pyplot` as `plt`, and `pandas` as `pd` are loaded and\n",
                "`world_happiness` is available.\n",
                "\n",
                "**Instructions**\n",
                "\n",
                "- Create a scatterplot of `happiness_score` vs. `life_exp` (without a\n",
                "  trendline) using `seaborn`.\n",
                "- Show the plot.\n",
                "- Create a scatterplot of `happiness_score` vs. `life_exp` **with a linear trendline** using `seaborn`, setting `ci` to `None`.\n",
                "- Show the plot.\n",
                "- Calculate the correlation between `life_exp` and `happiness_score`. Save this as `cor`.\n",
                "\n",
                "\n",
                "\n",
                "**Answer**\n"
            ]
        },
        {
            "cell_type": "code",
            "execution_count": null,
            "metadata": {},
            "outputs": [],
            "source": [
                "# Create a scatterplot of happiness_score vs. life_exp and show\n",
                "sns.scatterplot(x='life_exp', y='happiness_score', data=world_happiness)\n",
                "\n",
                "# Show plot\n",
                "plt.show()\n",
                "\n",
                "\n",
                "# Create scatterplot of happiness_score vs life_exp with trendline\n",
                "sns.lmplot(x='life_exp', y='happiness_score', data=world_happiness, ci=None)\n",
                "\n",
                "# Show plot\n",
                "plt.show()\n",
                "\n",
                "\n",
                "# Create scatterplot of happiness_score vs life_exp with trendline\n",
                "sns.lmplot(x='life_exp', y='happiness_score', data=world_happiness, ci=None)\n",
                "\n",
                "# Show plot\n",
                "plt.show()\n",
                "\n",
                "# Correlation between life_exp and happiness_score\n",
                "cor = world_happiness['life_exp'].corr(world_happiness['happiness_score'])\n",
                "\n",
                "print(cor)\n"
            ]
        },
        {
            "cell_type": "markdown",
            "metadata": {},
            "source": [
                "### What can't correlation measure?\n",
                "\n",
                "While the correlation coefficient is a convenient way to quantify the\n",
                "strength of a relationship between two variables, it's far from perfect.\n",
                "In this exercise, you'll explore one of the caveats of the correlation\n",
                "coefficient by examining the relationship between a country's GDP per\n",
                "capita (`gdp_per_cap`) and happiness score.\n",
                "\n",
                "`pandas` as `pd`, `matplotlib.pyplot` as `plt`, and `seaborn` as `sns`\n",
                "are imported, and `world_happiness` is loaded.\n",
                "\n",
                "**Instructions**\n",
                "\n",
                "- Create a `seaborn` scatterplot (without a trendline) showing the\n",
                "  relationship between `gdp_per_cap` (on the x-axis) and `life_exp` (on\n",
                "  the y-axis).\n",
                "- Show the plot\n",
                "- Calculate the correlation between `gdp_per_cap` and `life_exp` and store as `cor`.\n",
                "\n",
                "\n",
                "\n",
                "**Answer**\n"
            ]
        },
        {
            "cell_type": "code",
            "execution_count": null,
            "metadata": {},
            "outputs": [],
            "source": [
                "# Scatterplot of gdp_per_cap and life_exp\n",
                "sns.scatterplot(x='gdp_per_cap', y='life_exp', data=world_happiness)\n",
                "\n",
                "# Show plot\n",
                "plt.show()\n",
                "\n",
                "\n",
                "# Scatterplot of gdp_per_cap and life_exp\n",
                "sns.scatterplot(x='gdp_per_cap', y='life_exp', data=world_happiness)\n",
                "\n",
                "# Show plot\n",
                "plt.show()\n",
                "  \n",
                "# Correlation between gdp_per_cap and life_exp\n",
                "cor = world_happiness['gdp_per_cap'].corr(world_happiness['life_exp'])\n",
                "\n",
                "print(cor)\n"
            ]
        },
        {
            "cell_type": "markdown",
            "metadata": {},
            "source": [
                "### Transforming variables\n",
                "\n",
                "When variables have skewed distributions, they often require a\n",
                "transformation in order to form a linear relationship with another\n",
                "variable so that correlation can be computed. In this exercise, you'll\n",
                "perform a transformation yourself.\n",
                "\n",
                "`pandas` as `pd`, `numpy` as `np`, `matplotlib.pyplot` as `plt`, and\n",
                "`seaborn` as `sns` are imported, and `world_happiness` is loaded.\n",
                "\n",
                "**Instructions**\n",
                "\n",
                "- Create a scatterplot of `happiness_score` versus `gdp_per_cap` and\n",
                "  calculate the correlation between them.\n",
                "\n",
                "<!-- -->\n",
                "\n",
                "- Add a new column to `world_happiness` called `log_gdp_per_cap` that\n",
                "  contains the log of `gdp_per_cap`.\n",
                "- Create a `seaborn` scatterplot of `happiness_score` versus\n",
                "  `log_gdp_per_cap`.\n",
                "- Calculate the correlation between `log_gdp_per_cap` and\n",
                "  `happiness_score`.\n",
                "\n",
                "**Answer**\n"
            ]
        },
        {
            "cell_type": "code",
            "execution_count": null,
            "metadata": {},
            "outputs": [],
            "source": [
                "# Scatterplot of happiness_score vs. gdp_per_cap\n",
                "sns.scatterplot(x='gdp_per_cap', y='happiness_score', data=world_happiness)\n",
                "plt.show()\n",
                "\n",
                "# Calculate correlation\n",
                "cor = world_happiness['gdp_per_cap'].corr(world_happiness['happiness_score'])\n",
                "print(cor)\n",
                "\n",
                "\n",
                "# Create log_gdp_per_cap column\n",
                "world_happiness['log_gdp_per_cap'] = np.log(world_happiness['gdp_per_cap'])\n",
                "\n",
                "# Scatterplot of happiness_score vs. log_gdp_per_cap\n",
                "sns.scatterplot(x='log_gdp_per_cap', y='happiness_score', data=world_happiness)\n",
                "plt.show()\n",
                "\n",
                "# Calculate correlation\n",
                "cor = world_happiness['log_gdp_per_cap'].corr(world_happiness['happiness_score'])\n",
                "print(cor)\n"
            ]
        },
        {
            "cell_type": "markdown",
            "metadata": {},
            "source": [
                "### Does sugar improve happiness?\n",
                "\n",
                "A new column has been added to `world_happiness` called\n",
                "`grams_sugar_per_day`, which contains the average amount of sugar eaten\n",
                "per person per day in each country. In this exercise, you'll examine the\n",
                "effect of a country's average sugar consumption on its happiness score.\n",
                "\n",
                "`pandas` as `pd`, `matplotlib.pyplot` as `plt`, and `seaborn` as `sns`\n",
                "are imported, and `world_happiness` is loaded.\n",
                "\n",
                "**Instructions**\n",
                "\n",
                "- Create a `seaborn` scatterplot showing the relationship between\n",
                "  `grams_sugar_per_day` (on the x-axis) and `happiness_score` (on the\n",
                "  y-axis).\n",
                "- Calculate the correlation between `grams_sugar_per_day` and\n",
                "  `happiness_score`.\n",
                "\n",
                "**Answer**\n"
            ]
        },
        {
            "cell_type": "code",
            "execution_count": null,
            "metadata": {},
            "outputs": [],
            "source": [
                "# Scatterplot of grams_sugar_per_day and happiness_score\n",
                "sns.scatterplot(x='grams_sugar_per_day', y='happiness_score', data=world_happiness)\n",
                "plt.show()\n",
                "\n",
                "# Correlation between grams_sugar_per_day and happiness_score\n",
                "cor = world_happiness['grams_sugar_per_day'].corr(world_happiness['happiness_score'])\n",
                "print(cor)\n"
            ]
        }
    ],
    "metadata": {
        "anaconda-cloud": "",
        "kernelspec": {
            "display_name": "Python 3",
            "language": "python",
            "name": "python3"
        },
        "language_info": {
            "codemirror_mode": {
                "name": "ipython",
                "version": 3
            },
            "file_extension": ".py",
            "mimetype": "text/x-python",
            "name": "python",
            "nbconvert_exporter": "python",
            "pygments_lexer": "ipython3",
            "version": "3.12.3"
        }
    },
    "nbformat": 4,
    "nbformat_minor": 1
}
